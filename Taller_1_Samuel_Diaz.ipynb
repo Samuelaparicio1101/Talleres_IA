{
  "cells": [
    {
      "cell_type": "markdown",
      "metadata": {
        "id": "WRPzl1y0RaZC"
      },
      "source": [
        "**_Taller Objetos de Python_**\n",
        "\n",
        "##### Samuel Alberto Diaz Aparicio"
      ]
    },
    {
      "cell_type": "markdown",
      "metadata": {
        "id": "KDys2WqQR7Nd"
      },
      "source": [
        "### 1. ¿Cuál de los siguientes NO es un tipo de objeto básico en Python?\n",
        "- a) Números\n",
        "- b) Cadenas de texto\n",
        "- c) Conjuntos\n",
        "- d) Funciones matemáticas\n",
        "\n",
        "\n",
        "#### Rta: **_d) Funciones matematicas_**"
      ]
    },
    {
      "cell_type": "markdown",
      "metadata": {
        "id": "oc3R9J30TEmH"
      },
      "source": [
        "### 2. En Python, los valores True y False pertenecen al tipo:\n",
        "- a) Entero\n",
        "- b) Booleano\n",
        "- c) Cadena\n",
        "- d) Conjunto\n",
        "\n",
        "#### Rta: **_b) Booleano_**"
      ]
    },
    {
      "cell_type": "markdown",
      "metadata": {
        "id": "w9om3SIlaIP1"
      },
      "source": [
        "### 3. ¿Cuál de los siguientes objetos se considera un tipo numérico en Python?\n",
        "- a) int, float y complex\n",
        "- b) str, int y tuple\n",
        "- c) list, set y dict\n",
        "- d) bool, tuple y set\n",
        "\n",
        "### Rta: ***a) int, float y complex***"
      ]
    },
    {
      "cell_type": "markdown",
      "metadata": {
        "id": "rHRfJj5baaW8"
      },
      "source": [
        "### **4. Que imprime este codigo**"
      ]
    },
    {
      "cell_type": "code",
      "execution_count": null,
      "metadata": {
        "colab": {
          "base_uri": "https://localhost:8080/"
        },
        "id": "rt_pyeBBR6nT",
        "outputId": "e72fc0a8-dd6d-45bb-ce44-61e3c0bf74e2"
      },
      "outputs": [
        {
          "data": {
            "text/plain": [
              "2"
            ]
          },
          "execution_count": 2,
          "metadata": {},
          "output_type": "execute_result"
        }
      ],
      "source": [
        "\n",
        "x = (1,2,3)\n",
        "x[1]\n",
        "\n",
        "#Rta: b) 2"
      ]
    },
    {
      "cell_type": "markdown",
      "metadata": {
        "id": "ReCh6xHLah88"
      },
      "source": [
        "### **5. ¿Cual es el error de este codigo?**"
      ]
    },
    {
      "cell_type": "markdown",
      "metadata": {},
      "source": [
        "# Rta: c) las tuplas son inmutables"
      ]
    },
    {
      "cell_type": "code",
      "execution_count": null,
      "metadata": {
        "colab": {
          "base_uri": "https://localhost:8080/",
          "height": 176
        },
        "id": "K2nz52IvQxJa",
        "outputId": "d0a22243-d5e0-4365-a4ef-02c2af771712"
      },
      "outputs": [
        {
          "ename": "TypeError",
          "evalue": "'tuple' object does not support item assignment",
          "output_type": "error",
          "traceback": [
            "\u001b[0;31m---------------------------------------------------------------------------\u001b[0m",
            "\u001b[0;31mTypeError\u001b[0m                                 Traceback (most recent call last)",
            "\u001b[0;32m/tmp/ipython-input-1424898306.py\u001b[0m in \u001b[0;36m<cell line: 0>\u001b[0;34m()\u001b[0m\n\u001b[1;32m      1\u001b[0m \u001b[0;31m#5. ¿Cual es el error de este codigo?\u001b[0m\u001b[0;34m\u001b[0m\u001b[0;34m\u001b[0m\u001b[0m\n\u001b[1;32m      2\u001b[0m \u001b[0mt\u001b[0m \u001b[0;34m=\u001b[0m \u001b[0;34m(\u001b[0m\u001b[0;36m1\u001b[0m\u001b[0;34m,\u001b[0m\u001b[0;36m2\u001b[0m\u001b[0;34m,\u001b[0m\u001b[0;36m3\u001b[0m\u001b[0;34m)\u001b[0m\u001b[0;34m\u001b[0m\u001b[0;34m\u001b[0m\u001b[0m\n\u001b[0;32m----> 3\u001b[0;31m \u001b[0mt\u001b[0m\u001b[0;34m[\u001b[0m\u001b[0;36m0\u001b[0m\u001b[0;34m]\u001b[0m \u001b[0;34m=\u001b[0m \u001b[0;36m10\u001b[0m\u001b[0;34m\u001b[0m\u001b[0;34m\u001b[0m\u001b[0m\n\u001b[0m",
            "\u001b[0;31mTypeError\u001b[0m: 'tuple' object does not support item assignment"
          ]
        }
      ],
      "source": [
        "\n",
        "t = (1,2,3)\n",
        "t[0] = 10"
      ]
    },
    {
      "cell_type": "markdown",
      "metadata": {
        "id": "KZQBGrqtan_M"
      },
      "source": [
        "### **6. ¿Que resultado produce?**"
      ]
    },
    {
      "cell_type": "code",
      "execution_count": null,
      "metadata": {
        "colab": {
          "base_uri": "https://localhost:8080/"
        },
        "id": "kCEI_JTDVdY-",
        "outputId": "86a999aa-b883-43f7-92a9-3483144be035"
      },
      "outputs": [
        {
          "data": {
            "text/plain": [
              "{1, 2, 3}"
            ]
          },
          "execution_count": 5,
          "metadata": {},
          "output_type": "execute_result"
        }
      ],
      "source": [
        "\n",
        "s = {1,2,2,3,3}\n",
        "print(s)\n",
        "\n",
        "#Rta: b) {1,2,3}"
      ]
    },
    {
      "cell_type": "markdown",
      "metadata": {
        "id": "QJpXdhxJa2_M"
      },
      "source": [
        "### **7. ¿Cual es la salida?**"
      ]
    },
    {
      "cell_type": "code",
      "execution_count": null,
      "metadata": {
        "colab": {
          "base_uri": "https://localhost:8080/",
          "height": 35
        },
        "id": "oCJ7EFUwV1sN",
        "outputId": "ab0b472a-3fa6-4758-c754-442e0c7a8494"
      },
      "outputs": [
        {
          "data": {
            "application/vnd.google.colaboratory.intrinsic+json": {
              "type": "string"
            },
            "text/plain": [
              "'und'"
            ]
          },
          "execution_count": 6,
          "metadata": {},
          "output_type": "execute_result"
        }
      ],
      "source": [
        "\n",
        "palabra = \"Mundo\"\n",
        "print(palabra[1:4])\n",
        "\n",
        "#Rta: c) \"und\""
      ]
    },
    {
      "cell_type": "markdown",
      "metadata": {
        "id": "iXdxA8JXa-gc"
      },
      "source": [
        "### **8.¿Que imprime?**"
      ]
    },
    {
      "cell_type": "code",
      "execution_count": null,
      "metadata": {
        "colab": {
          "base_uri": "https://localhost:8080/"
        },
        "id": "cmzNAQJfWOel",
        "outputId": "e586dff3-95b5-48ad-8325-d2b2fb78913c"
      },
      "outputs": [
        {
          "name": "stdout",
          "output_type": "stream",
          "text": [
            "[10, 20, 30, 40]\n"
          ]
        }
      ],
      "source": [
        "\n",
        "lista = [10,20,30]\n",
        "lista.append(40)\n",
        "print(lista)\n",
        "\n",
        "#Rta: b) [10,20,30,40]"
      ]
    },
    {
      "cell_type": "markdown",
      "metadata": {
        "id": "_HlKYbPbj2Yy"
      },
      "source": [
        "### **9.¿Que ocurre?**"
      ]
    },
    {
      "cell_type": "markdown",
      "metadata": {},
      "source": [
        "# Rta: c) Error"
      ]
    },
    {
      "cell_type": "code",
      "execution_count": null,
      "metadata": {
        "colab": {
          "base_uri": "https://localhost:8080/",
          "height": 211
        },
        "id": "BPf46-tzW4cN",
        "outputId": "63dfc320-01d2-435c-97eb-fa1ffd7f43be"
      },
      "outputs": [
        {
          "ename": "KeyError",
          "evalue": "'c'",
          "output_type": "error",
          "traceback": [
            "\u001b[0;31m---------------------------------------------------------------------------\u001b[0m",
            "\u001b[0;31mKeyError\u001b[0m                                  Traceback (most recent call last)",
            "\u001b[0;32m/tmp/ipython-input-2614752787.py\u001b[0m in \u001b[0;36m<cell line: 0>\u001b[0;34m()\u001b[0m\n\u001b[1;32m      1\u001b[0m \u001b[0;31m#9.¿Que ocurre?\u001b[0m\u001b[0;34m\u001b[0m\u001b[0;34m\u001b[0m\u001b[0m\n\u001b[1;32m      2\u001b[0m \u001b[0mdic\u001b[0m \u001b[0;34m=\u001b[0m \u001b[0;34m{\u001b[0m\u001b[0;34m\"a\"\u001b[0m\u001b[0;34m:\u001b[0m\u001b[0;36m1\u001b[0m\u001b[0;34m,\u001b[0m\u001b[0;34m\"b\"\u001b[0m\u001b[0;34m:\u001b[0m\u001b[0;36m2\u001b[0m\u001b[0;34m}\u001b[0m\u001b[0;34m\u001b[0m\u001b[0;34m\u001b[0m\u001b[0m\n\u001b[0;32m----> 3\u001b[0;31m \u001b[0mprint\u001b[0m\u001b[0;34m(\u001b[0m\u001b[0mdic\u001b[0m\u001b[0;34m[\u001b[0m\u001b[0;34m\"c\"\u001b[0m\u001b[0;34m]\u001b[0m\u001b[0;34m)\u001b[0m\u001b[0;34m\u001b[0m\u001b[0;34m\u001b[0m\u001b[0m\n\u001b[0m\u001b[1;32m      4\u001b[0m \u001b[0;34m\u001b[0m\u001b[0m\n\u001b[1;32m      5\u001b[0m \u001b[0;31m#Rta: c) Error\u001b[0m\u001b[0;34m\u001b[0m\u001b[0;34m\u001b[0m\u001b[0m\n",
            "\u001b[0;31mKeyError\u001b[0m: 'c'"
          ]
        }
      ],
      "source": [
        "\n",
        "dic = {\"a\":1,\"b\":2}\n",
        "print(dic[\"c\"])"
      ]
    },
    {
      "cell_type": "markdown",
      "metadata": {
        "id": "AsajLONEj9pZ"
      },
      "source": [
        "###**10. Elige la opcion correcta para obtener el valor 3 de este diccionario**"
      ]
    },
    {
      "cell_type": "code",
      "execution_count": null,
      "metadata": {
        "colab": {
          "base_uri": "https://localhost:8080/"
        },
        "id": "lEA__5TCXPl1",
        "outputId": "a66a4c0c-fe9d-4bb8-ba0f-26f1f949e3d1"
      },
      "outputs": [
        {
          "name": "stdout",
          "output_type": "stream",
          "text": [
            "3\n"
          ]
        }
      ],
      "source": [
        "\n",
        "\n",
        "d = {\"x\":1,\"y\":2,\"z\":3}\n",
        "print(d[\"z\"])\n",
        "\n",
        "#Rta: a) d[\"z\"]"
      ]
    },
    {
      "cell_type": "markdown",
      "metadata": {
        "id": "elJ7q_IikFiC"
      },
      "source": [
        "### **11. ¿Que devuelve este codigo?**"
      ]
    },
    {
      "cell_type": "code",
      "execution_count": null,
      "metadata": {
        "colab": {
          "base_uri": "https://localhost:8080/"
        },
        "id": "2MxA2WBYXmNc",
        "outputId": "e5d4dc31-3be9-4d7d-f6ca-5fad67f813c7"
      },
      "outputs": [
        {
          "name": "stdout",
          "output_type": "stream",
          "text": [
            "<class 'float'>\n"
          ]
        }
      ],
      "source": [
        "\n",
        "print(type(3.0))\n",
        "\n",
        "#Rta: b) float"
      ]
    },
    {
      "cell_type": "markdown",
      "metadata": {
        "id": "Omj_A4sckSLq"
      },
      "source": [
        "### **12. ¿Cual es el resultado?**"
      ]
    },
    {
      "cell_type": "code",
      "execution_count": null,
      "metadata": {
        "colab": {
          "base_uri": "https://localhost:8080/"
        },
        "id": "_kuh-l2KYJiN",
        "outputId": "93de5698-66cc-4a87-9a94-97a07658958f"
      },
      "outputs": [
        {
          "name": "stdout",
          "output_type": "stream",
          "text": [
            "[1, 2, 3, 4]\n"
          ]
        }
      ],
      "source": [
        "\n",
        "x = [1,2,3]\n",
        "y = x\n",
        "y.append(4)\n",
        "print(x)\n",
        "\n",
        "#Rta: b) [1,2,3,4]"
      ]
    },
    {
      "cell_type": "markdown",
      "metadata": {
        "id": "C49Pf8qJkddZ"
      },
      "source": [
        "### **13. El valor de resultado sera:**"
      ]
    },
    {
      "cell_type": "code",
      "execution_count": null,
      "metadata": {
        "colab": {
          "base_uri": "https://localhost:8080/",
          "height": 35
        },
        "id": "f9EKN-r7YX-8",
        "outputId": "7cfae62a-dfa0-436b-b7f6-d0485df246d6"
      },
      "outputs": [
        {
          "data": {
            "application/vnd.google.colaboratory.intrinsic+json": {
              "type": "string"
            },
            "text/plain": [
              "'10,20,30'"
            ]
          },
          "execution_count": 16,
          "metadata": {},
          "output_type": "execute_result"
        }
      ],
      "source": [
        "\n",
        "numeros = [\"10\",\"20\",\"30\"]\n",
        "resultados = \",\".join(numeros)\n",
        "resultados\n",
        "\n",
        "#Rta: b) \"10,20,30\""
      ]
    },
    {
      "cell_type": "markdown",
      "metadata": {
        "id": "JKdZWizmkir5"
      },
      "source": [
        "###**14. Completa el código para convertir un conjunto a lista:**"
      ]
    },
    {
      "cell_type": "code",
      "execution_count": null,
      "metadata": {
        "colab": {
          "base_uri": "https://localhost:8080/"
        },
        "id": "iGdDdgj3aAS8",
        "outputId": "2e93df3d-f789-41d0-df33-997062f2b9c8"
      },
      "outputs": [
        {
          "data": {
            "text/plain": [
              "[1, 2, 3]"
            ]
          },
          "execution_count": 17,
          "metadata": {},
          "output_type": "execute_result"
        }
      ],
      "source": [
        "\n",
        "s = {1,2,3}\n",
        "list(s)\n",
        "\n",
        "# Rta: a) list(s)"
      ]
    },
    {
      "cell_type": "markdown",
      "metadata": {
        "id": "OWB7oZu3knNx"
      },
      "source": [
        "### **15 Cual es la salida:**"
      ]
    },
    {
      "cell_type": "markdown",
      "metadata": {},
      "source": [
        "# Rta: d) Error"
      ]
    },
    {
      "cell_type": "code",
      "execution_count": null,
      "metadata": {
        "colab": {
          "base_uri": "https://localhost:8080/",
          "height": 106
        },
        "id": "z9Ywb9M_bv10",
        "outputId": "3247d249-b5bb-4e7d-f70a-bb67c3f966ed"
      },
      "outputs": [
        {
          "ename": "IndentationError",
          "evalue": "unexpected indent (ipython-input-3413796144.py, line 2)",
          "output_type": "error",
          "traceback": [
            "\u001b[0;36m  File \u001b[0;32m\"/tmp/ipython-input-3413796144.py\"\u001b[0;36m, line \u001b[0;32m2\u001b[0m\n\u001b[0;31m    Cadena = \"Hola\"\u001b[0m\n\u001b[0m    ^\u001b[0m\n\u001b[0;31mIndentationError\u001b[0m\u001b[0;31m:\u001b[0m unexpected indent\n"
          ]
        }
      ],
      "source": [
        "\n",
        " Cadena = \"Hola\"\n",
        " print(Cadena*3)"
      ]
    },
    {
      "cell_type": "markdown",
      "metadata": {
        "id": "LgFHkJmUkttB"
      },
      "source": [
        "### **16. ¿Que valor imprime?**"
      ]
    },
    {
      "cell_type": "code",
      "execution_count": null,
      "metadata": {
        "colab": {
          "base_uri": "https://localhost:8080/"
        },
        "id": "jVu252_Qca7T",
        "outputId": "f9ccdca7-a135-4a05-ec02-17ce36fd6def"
      },
      "outputs": [
        {
          "name": "stdout",
          "output_type": "stream",
          "text": [
            "30\n"
          ]
        }
      ],
      "source": [
        "\n",
        "lista = [10,20,30]\n",
        "print(lista[-1])\n",
        "\n",
        "#Rta: c) 30"
      ]
    },
    {
      "cell_type": "markdown",
      "metadata": {
        "id": "olhrLCbqk3M6"
      },
      "source": [
        "### **17.¿Qué contendrá precios después de ejecutar el código?**\n",
        "\n"
      ]
    },
    {
      "cell_type": "code",
      "execution_count": null,
      "metadata": {
        "colab": {
          "base_uri": "https://localhost:8080/"
        },
        "id": "EAr5MNcMc9Uz",
        "outputId": "6fd9a273-30af-4b4f-f1c0-2567371f270a"
      },
      "outputs": [
        {
          "data": {
            "text/plain": [
              "[500, 800, 1200, 3400]"
            ]
          },
          "execution_count": 58,
          "metadata": {},
          "output_type": "execute_result"
        }
      ],
      "source": [
        "\n",
        "precios = [1200, 500, 3400, 800]\n",
        "precios.sort()\n",
        "precios\n",
        "\n",
        "#Rta: a) [500, 800, 1200, 3400]"
      ]
    },
    {
      "cell_type": "markdown",
      "metadata": {
        "id": "-_QeLayGlGgi"
      },
      "source": [
        "### **18. ¿Cual es el error?**"
      ]
    },
    {
      "cell_type": "markdown",
      "metadata": {},
      "source": [
        "# Rta: a) Los conjuntos sin indexables"
      ]
    },
    {
      "cell_type": "code",
      "execution_count": null,
      "metadata": {
        "colab": {
          "base_uri": "https://localhost:8080/",
          "height": 211
        },
        "id": "6H2ViNtEd-pD",
        "outputId": "4bc0e9b0-e288-4698-9f2b-8efc79d76cb1"
      },
      "outputs": [
        {
          "ename": "TypeError",
          "evalue": "'set' object is not subscriptable",
          "output_type": "error",
          "traceback": [
            "\u001b[0;31m---------------------------------------------------------------------------\u001b[0m",
            "\u001b[0;31mTypeError\u001b[0m                                 Traceback (most recent call last)",
            "\u001b[0;32m/tmp/ipython-input-1231192487.py\u001b[0m in \u001b[0;36m<cell line: 0>\u001b[0;34m()\u001b[0m\n\u001b[1;32m      1\u001b[0m \u001b[0;31m#18 ¿Cual es el error?\u001b[0m\u001b[0;34m\u001b[0m\u001b[0;34m\u001b[0m\u001b[0m\n\u001b[1;32m      2\u001b[0m \u001b[0mconjunto\u001b[0m \u001b[0;34m=\u001b[0m \u001b[0;34m{\u001b[0m\u001b[0;36m1\u001b[0m\u001b[0;34m,\u001b[0m\u001b[0;36m2\u001b[0m\u001b[0;34m,\u001b[0m\u001b[0;36m3\u001b[0m\u001b[0;34m}\u001b[0m\u001b[0;34m\u001b[0m\u001b[0;34m\u001b[0m\u001b[0m\n\u001b[0;32m----> 3\u001b[0;31m \u001b[0mprint\u001b[0m\u001b[0;34m(\u001b[0m\u001b[0mconjunto\u001b[0m\u001b[0;34m[\u001b[0m\u001b[0;36m0\u001b[0m\u001b[0;34m]\u001b[0m\u001b[0;34m)\u001b[0m\u001b[0;34m\u001b[0m\u001b[0;34m\u001b[0m\u001b[0m\n\u001b[0m\u001b[1;32m      4\u001b[0m \u001b[0;34m\u001b[0m\u001b[0m\n\u001b[1;32m      5\u001b[0m \u001b[0;31m#Rta: a) Los conjuntos sin indexables\u001b[0m\u001b[0;34m\u001b[0m\u001b[0;34m\u001b[0m\u001b[0m\n",
            "\u001b[0;31mTypeError\u001b[0m: 'set' object is not subscriptable"
          ]
        }
      ],
      "source": [
        "\n",
        "conjunto = {1,2,3}\n",
        "print(conjunto[0])"
      ]
    },
    {
      "cell_type": "markdown",
      "metadata": {
        "id": "NZl_XcCAlNwp"
      },
      "source": [
        "###**19. ¿Qué devuelve?**"
      ]
    },
    {
      "cell_type": "code",
      "execution_count": null,
      "metadata": {
        "colab": {
          "base_uri": "https://localhost:8080/"
        },
        "id": "dRBGnH12fNPD",
        "outputId": "c76a2bf9-a6d7-464e-f2e6-b31f91ceb5fa"
      },
      "outputs": [
        {
          "data": {
            "text/plain": [
              "3"
            ]
          },
          "execution_count": 32,
          "metadata": {},
          "output_type": "execute_result"
        }
      ],
      "source": [
        "\n",
        "len({\"a\": 1, \"b\": 2, \"c\": 3})\n",
        "\n",
        "#Rta: b) 3"
      ]
    },
    {
      "cell_type": "markdown",
      "metadata": {
        "id": "WG4NEZXilUqy"
      },
      "source": [
        "### **20.¿Qué resultado da?**"
      ]
    },
    {
      "cell_type": "code",
      "execution_count": null,
      "metadata": {
        "colab": {
          "base_uri": "https://localhost:8080/"
        },
        "id": "YMkJ4ipdf-Gj",
        "outputId": "0ced6bb5-3c28-4af5-d1f0-ffd00c0ace15"
      },
      "outputs": [
        {
          "name": "stdout",
          "output_type": "stream",
          "text": [
            "[1, 2, 3, 1, 2, 3]\n"
          ]
        }
      ],
      "source": [
        "\n",
        "lista = [1, 2, 3]\n",
        "print(lista * 2)\n",
        "\n",
        "#Rta: a) [1, 2, 3, 1, 2, 3]"
      ]
    },
    {
      "cell_type": "markdown",
      "metadata": {
        "id": "yNPCovpdlZoB"
      },
      "source": [
        "### **21.¿Qué ocurre?**"
      ]
    },
    {
      "cell_type": "code",
      "execution_count": null,
      "metadata": {
        "colab": {
          "base_uri": "https://localhost:8080/"
        },
        "id": "9yNGGezcgMYi",
        "outputId": "6fcb4f49-f356-4417-f051-bb8d4937a659"
      },
      "outputs": [
        {
          "name": "stdout",
          "output_type": "stream",
          "text": [
            "{'a': 100}\n"
          ]
        }
      ],
      "source": [
        "\n",
        "d = {\"a\": 1}\n",
        "d[\"a\"] = 100\n",
        "print(d)\n",
        "\n",
        "#Rta: b){'a': 100}"
      ]
    },
    {
      "cell_type": "markdown",
      "metadata": {
        "id": "-R7kpLGkldCC"
      },
      "source": [
        "### **22.¿Qué imprime?**"
      ]
    },
    {
      "cell_type": "code",
      "execution_count": null,
      "metadata": {
        "colab": {
          "base_uri": "https://localhost:8080/"
        },
        "id": "nNgvaT6vgTOa",
        "outputId": "4e2b54be-14e9-4c01-de35-29245bee096f"
      },
      "outputs": [
        {
          "name": "stdout",
          "output_type": "stream",
          "text": [
            "PYTHON\n"
          ]
        }
      ],
      "source": [
        "\n",
        "print(\"python\".upper())\n",
        "#Rta: a) PYTHON"
      ]
    },
    {
      "cell_type": "markdown",
      "metadata": {
        "id": "s6pK-VVslht6"
      },
      "source": [
        "### **23. Completa el código para agregar el número 5 a un conjunto:**"
      ]
    },
    {
      "cell_type": "code",
      "execution_count": null,
      "metadata": {
        "colab": {
          "base_uri": "https://localhost:8080/"
        },
        "id": "HGrURPILge6D",
        "outputId": "5d716d91-9632-4db0-c709-41a8c9058381"
      },
      "outputs": [
        {
          "data": {
            "text/plain": [
              "{1, 2, 3, 5}"
            ]
          },
          "execution_count": 39,
          "metadata": {},
          "output_type": "execute_result"
        }
      ],
      "source": [
        "\n",
        "s = {1, 2, 3}\n",
        "s.add(5)\n",
        "s\n",
        "#Rta: a) add"
      ]
    },
    {
      "cell_type": "markdown",
      "metadata": {
        "id": "7360toQillGC"
      },
      "source": [
        "###**24.¿Cuál es la salida?**"
      ]
    },
    {
      "cell_type": "code",
      "execution_count": null,
      "metadata": {
        "colab": {
          "base_uri": "https://localhost:8080/"
        },
        "id": "Z6xhCa9EgziL",
        "outputId": "1235c2a7-abad-4a5b-defc-974bfb48326d"
      },
      "outputs": [
        {
          "name": "stdout",
          "output_type": "stream",
          "text": [
            "True\n"
          ]
        }
      ],
      "source": [
        "\n",
        "d = {\"x\": 10, \"y\": 20}\n",
        "print(\"x\" in d)\n",
        "\n",
        "#Rta: b) True"
      ]
    },
    {
      "cell_type": "markdown",
      "metadata": {
        "id": "tIF79rJQlpu6"
      },
      "source": [
        "### **25. ¿Qué imprime?**"
      ]
    },
    {
      "cell_type": "code",
      "execution_count": null,
      "metadata": {
        "colab": {
          "base_uri": "https://localhost:8080/"
        },
        "id": "CUb_VrtWg-N7",
        "outputId": "675fa4ac-33d2-4625-ab4a-7218372c5d38"
      },
      "outputs": [
        {
          "name": "stdout",
          "output_type": "stream",
          "text": [
            "True\n"
          ]
        }
      ],
      "source": [
        "\n",
        "print([1, 2, 3] == [1, 2, 3])\n",
        "\n",
        "# Rta: a) True"
      ]
    },
    {
      "cell_type": "markdown",
      "metadata": {
        "id": "xoEY4jUBlufx"
      },
      "source": [
        "### **26. ¿Qué se imprimirá en pantalla?**"
      ]
    },
    {
      "cell_type": "code",
      "execution_count": null,
      "metadata": {
        "colab": {
          "base_uri": "https://localhost:8080/"
        },
        "id": "l32qXjochC4K",
        "outputId": "fd4e0022-6562-44ca-b389-d9a98d094601"
      },
      "outputs": [
        {
          "name": "stdout",
          "output_type": "stream",
          "text": [
            "0\n",
            "1\n",
            "2\n",
            "3\n",
            "4\n"
          ]
        }
      ],
      "source": [
        "\n",
        "for i in range(5):\n",
        " print(i)\n",
        "\n",
        "#Rta: c) 0 2 3 4"
      ]
    },
    {
      "cell_type": "markdown",
      "metadata": {
        "id": "T38rfH3Ilzri"
      },
      "source": [
        "### **27. ¿Qué ocurre?**"
      ]
    },
    {
      "cell_type": "markdown",
      "metadata": {},
      "source": [
        "# Rta: c) Lanza un error "
      ]
    },
    {
      "cell_type": "code",
      "execution_count": null,
      "metadata": {
        "colab": {
          "base_uri": "https://localhost:8080/",
          "height": 211
        },
        "id": "Yp7GRO0mhHmc",
        "outputId": "80c9bac3-7440-4962-fc65-150244c2d08c"
      },
      "outputs": [
        {
          "ename": "KeyError",
          "evalue": "4",
          "output_type": "error",
          "traceback": [
            "\u001b[0;31m---------------------------------------------------------------------------\u001b[0m",
            "\u001b[0;31mKeyError\u001b[0m                                  Traceback (most recent call last)",
            "\u001b[0;32m/tmp/ipython-input-2265283976.py\u001b[0m in \u001b[0;36m<cell line: 0>\u001b[0;34m()\u001b[0m\n\u001b[1;32m      1\u001b[0m \u001b[0;31m#27. ¿Qué ocurre?\u001b[0m\u001b[0;34m\u001b[0m\u001b[0;34m\u001b[0m\u001b[0m\n\u001b[1;32m      2\u001b[0m \u001b[0ms\u001b[0m \u001b[0;34m=\u001b[0m \u001b[0;34m{\u001b[0m\u001b[0;36m1\u001b[0m\u001b[0;34m,\u001b[0m \u001b[0;36m2\u001b[0m\u001b[0;34m,\u001b[0m \u001b[0;36m3\u001b[0m\u001b[0;34m}\u001b[0m\u001b[0;34m\u001b[0m\u001b[0;34m\u001b[0m\u001b[0m\n\u001b[0;32m----> 3\u001b[0;31m \u001b[0ms\u001b[0m\u001b[0;34m.\u001b[0m\u001b[0mremove\u001b[0m\u001b[0;34m(\u001b[0m\u001b[0;36m4\u001b[0m\u001b[0;34m)\u001b[0m\u001b[0;34m\u001b[0m\u001b[0;34m\u001b[0m\u001b[0m\n\u001b[0m\u001b[1;32m      4\u001b[0m \u001b[0;34m\u001b[0m\u001b[0m\n\u001b[1;32m      5\u001b[0m \u001b[0;31m#Rta: c) Lanza un error\u001b[0m\u001b[0;34m\u001b[0m\u001b[0;34m\u001b[0m\u001b[0m\n",
            "\u001b[0;31mKeyError\u001b[0m: 4"
          ]
        }
      ],
      "source": [
        "\n",
        "s = {1, 2, 3}\n",
        "s.remove(4)"
      ]
    },
    {
      "cell_type": "markdown",
      "metadata": {
        "id": "SrMs4kgkl50R"
      },
      "source": [
        "### **28. Tienes el siguiente texto:**\n",
        "```\n",
        "texto = \"Colombia México Perú Chile\"\n",
        "paises = texto.split()\n",
        "```\n",
        "###¿Qué contendrá la variable paises?\n",
        "\n"
      ]
    },
    {
      "cell_type": "code",
      "execution_count": null,
      "metadata": {
        "colab": {
          "base_uri": "https://localhost:8080/"
        },
        "id": "4GMDicYehirk",
        "outputId": "b56ee587-5139-4c44-94b1-5d6379fecb79"
      },
      "outputs": [
        {
          "data": {
            "text/plain": [
              "['Colombia', 'México', 'Perú', 'Chile']"
            ]
          },
          "execution_count": 49,
          "metadata": {},
          "output_type": "execute_result"
        }
      ],
      "source": [
        "\n",
        "texto = \"Colombia México Perú Chile\"\n",
        "paises = texto.split()\n",
        "paises\n",
        "\n",
        "\n",
        "#Rta: b) ['Colombia', 'México', 'Perú', 'Chile']"
      ]
    },
    {
      "cell_type": "markdown",
      "metadata": {
        "id": "B_B71rKCmOD5"
      },
      "source": [
        "### **29.¿Qué resultado produce valores?**"
      ]
    },
    {
      "cell_type": "code",
      "execution_count": null,
      "metadata": {
        "colab": {
          "base_uri": "https://localhost:8080/"
        },
        "id": "2BQDcc72h1qK",
        "outputId": "16215e03-ffcc-40e3-e7e8-b91747237ce1"
      },
      "outputs": [
        {
          "data": {
            "text/plain": [
              "['1000', '2500', '3200', '4500']"
            ]
          },
          "execution_count": 52,
          "metadata": {},
          "output_type": "execute_result"
        }
      ],
      "source": [
        "\n",
        "ventas = \"1000;2500;3200;4500\"\n",
        "valores = ventas.split(\";\")\n",
        "valores\n",
        "\n",
        "#Rta: a) [\"1000\", \"2500\", \"3200\", \"4500\"]"
      ]
    },
    {
      "cell_type": "markdown",
      "metadata": {
        "id": "9PmpYqvNmRSR"
      },
      "source": [
        "### **30. ¿Cuál será el contenido de texto?**"
      ]
    },
    {
      "cell_type": "code",
      "execution_count": null,
      "metadata": {
        "colab": {
          "base_uri": "https://localhost:8080/",
          "height": 35
        },
        "id": "tmk9VuliiJCi",
        "outputId": "bb54a1af-c4b7-456b-be0f-7e81b7040390"
      },
      "outputs": [
        {
          "data": {
            "application/vnd.google.colaboratory.intrinsic+json": {
              "type": "string"
            },
            "text/plain": [
              "'Economía - Mercados - Exportaciones'"
            ]
          },
          "execution_count": 55,
          "metadata": {},
          "output_type": "execute_result"
        }
      ],
      "source": [
        "\n",
        "palabras = [\"Economía\", \"Mercados\", \"Exportaciones\"]\n",
        "texto = \" - \".join(palabras)\n",
        "texto\n",
        "\n",
        "#Rta: b) \"Economía - Mercados - Exportaciones\""
      ]
    },
    {
      "cell_type": "markdown",
      "metadata": {
        "id": "-QD_yd-LmVI1"
      },
      "source": [
        "### **31. ¿Qué contendrá empresas después de ejecutar el código?**"
      ]
    },
    {
      "cell_type": "code",
      "execution_count": null,
      "metadata": {
        "colab": {
          "base_uri": "https://localhost:8080/"
        },
        "id": "84NrIDoqid9a",
        "outputId": "b29bf1da-cec7-4464-f548-d7c5b12c137c"
      },
      "outputs": [
        {
          "data": {
            "text/plain": [
              "['Amazon', 'Apple', 'Google', 'Microsoft']"
            ]
          },
          "execution_count": 56,
          "metadata": {},
          "output_type": "execute_result"
        }
      ],
      "source": [
        "\n",
        "empresas = [\"Amazon\", \"Google\", \"Microsoft\", \"Apple\"]\n",
        "empresas.sort()\n",
        "empresas\n",
        "\n",
        "#Rta:"
      ]
    },
    {
      "cell_type": "markdown",
      "metadata": {
        "id": "dm4jW6VpmYDJ"
      },
      "source": [
        "### **32. ¿Qué contendrá la lista numeros?**"
      ]
    },
    {
      "cell_type": "code",
      "execution_count": null,
      "metadata": {
        "colab": {
          "base_uri": "https://localhost:8080/"
        },
        "id": "QuHVVmvzjkEa",
        "outputId": "bc2ff51d-e9a1-49bd-bdce-bf9225fb74d6"
      },
      "outputs": [
        {
          "data": {
            "text/plain": [
              "[2, 4, 6, 8]"
            ]
          },
          "execution_count": 57,
          "metadata": {},
          "output_type": "execute_result"
        }
      ],
      "source": [
        "\n",
        "numeros = list(range(2, 10, 2))\n",
        "numeros\n",
        "\n",
        "#Rta: a) [2, 4, 6, 8]"
      ]
    }
  ],
  "metadata": {
    "colab": {
      "provenance": []
    },
    "kernelspec": {
      "display_name": "Python 3",
      "name": "python3"
    },
    "language_info": {
      "name": "python"
    }
  },
  "nbformat": 4,
  "nbformat_minor": 0
}
