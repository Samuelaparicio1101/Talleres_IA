{
 "cells": [
  {
   "cell_type": "markdown",
   "id": "9c68a245",
   "metadata": {},
   "source": [
    "# Solución Taller CONDICIONALES, BUCLES Y FUNCIONES\n",
    "## Autor: Samuel Aparicio"
   ]
  },
  {
   "cell_type": "markdown",
   "id": "e1963c0e",
   "metadata": {},
   "source": [
    "### Ejercicio 1\n",
    "### Escribe un programa que pida la inflación y muestre el porcentaje de aumento salarial aprobado teniendo en cuenta las siguientes condiciones:\n",
    "### Si la inflación es mayor al 10%, el gobierno aprueba un aumento salarial del 12%.\n",
    "### Si la inflación está entre 6% y 10%, el aumento es del 8%.\n",
    "### Si es menor al 6%, el aumento es del 5%."
   ]
  },
  {
   "cell_type": "code",
   "execution_count": null,
   "id": "a3cec94a",
   "metadata": {},
   "outputs": [],
   "source": [
    "inflacion = float(input(\"Ingrese el valor de la inflación en decimal: \"))\n",
    "if inflacion < 0.06:\n",
    "    print(\"Se aprubea un incremento al salario del 5%.\")\n",
    "elif 0.06 <= inflacion <= 0.1:\n",
    "    print(\"Se aprubea un incremento al salario del 8%.\")\n",
    "else:\n",
    "    print(\"Se aprubea un incremento al salario del 12%.\")"
   ]
  },
  {
   "cell_type": "markdown",
   "id": "33d6d891",
   "metadata": {},
   "source": [
    "# Ejercicio 2\n",
    "## Tienes una lista con el número de empresas registradas en diferentes ciudades. Usa un ciclo for para contar cuántas ciudades tienen más de 100 empresas y muestra el resultado en pantalla como: \"Número de ciudades con más de 100 empresas: X\"\n",
    "### empresas = [120, 85, 340, 210, 95]\n",
    "     "
   ]
  },
  {
   "cell_type": "code",
   "execution_count": 3,
   "id": "8fdd899d",
   "metadata": {},
   "outputs": [
    {
     "name": "stdout",
     "output_type": "stream",
     "text": [
      "Número de ciudades con más de 100 empresas: 3\n"
     ]
    }
   ],
   "source": [
    "empresas = [120, 85, 340, 210, 95]\n",
    "contador = 0\n",
    "for num in empresas:\n",
    "    if num > 100:\n",
    "        contador += 1\n",
    "print(f\"Número de ciudades con más de 100 empresas: {contador}\")"
   ]
  },
  {
   "cell_type": "markdown",
   "id": "eb2ae31b",
   "metadata": {},
   "source": [
    "# Ejercicio 3\n",
    "# Escribe un programa que imprima todos los múltiplos de 5 entre 1 y 50, utilizando range()"
   ]
  },
  {
   "cell_type": "code",
   "execution_count": 4,
   "id": "6b7bce83",
   "metadata": {},
   "outputs": [
    {
     "name": "stdout",
     "output_type": "stream",
     "text": [
      "5\n",
      "10\n",
      "15\n",
      "20\n",
      "25\n",
      "30\n",
      "35\n",
      "40\n",
      "45\n",
      "50\n"
     ]
    }
   ],
   "source": [
    "def imprimir_multiplos_de_5():\n",
    "    for num in range(1, 51):\n",
    "        if num % 5 == 0:\n",
    "            print(num)\n",
    "imprimir_multiplos_de_5()"
   ]
  },
  {
   "cell_type": "markdown",
   "id": "d5242656",
   "metadata": {},
   "source": [
    "## Ejercicio 4 \n",
    "## Un cajero automático tiene 500.000 pesos disponibles. Un usuario puede retirar varias veces, pero no puede retirar más de lo que queda en el cajero. Escribe un programa que:\n",
    "\n",
    "## Pregunte cuánto quiere retirar.\n",
    "\n",
    "## Reste ese valor al saldo.\n",
    "\n",
    "## Termine cuando el saldo llegue a 0 o el usuario escriba 0."
   ]
  },
  {
   "cell_type": "code",
   "execution_count": null,
   "id": "6ea7b27d",
   "metadata": {},
   "outputs": [],
   "source": [
    "saldo = 500000\n",
    "while saldo > 0:\n",
    "    retiro = int(input(\"¿Cuánto desea retirar? (Ingrese 0 para salir): \"))\n",
    "    if retiro == 0:\n",
    "        print(\"Operación finalizada por el usuario.\")\n",
    "        break\n",
    "    elif retiro > saldo:\n",
    "        print(f\"No puede retirar más de lo que queda en el cajero. Saldo disponible: {saldo} pesos.\")\n",
    "    else:\n",
    "        saldo -= retiro\n",
    "        print(f\"Retiro exitoso. Saldo restante: {saldo} pesos.\")\n"
   ]
  },
  {
   "cell_type": "markdown",
   "id": "c7e2cb6f",
   "metadata": {},
   "source": [
    "## Ejercicio 5\n",
    "## Crea una función raiz_cuadrada(num) que calcule la raíz cuadrada de un número.\n",
    "\n",
    "## Si el número es negativo, devuelve: \"Error: no se puede calcular la raíz cuadrada de un número negativo.\"\n",
    "\n",
    "## Si el valor no es numérico, devuelve: \"Error: el valor debe ser numérico.\"\n",
    "\n",
    "## NOTA: utiliza import math y la función math.sqrt(num)\n",
    "\n",
    "\n",
    "## import math\n",
    "\n",
    "## def raiz_cuadrada(num):\n",
    "     \n",
    "\n",
    "## print(raiz_cuadrada(16))    # 4.0\n",
    "     \n",
    "\n",
    "## print(raiz_cuadrada(-9))    # Error: no se puede calcular la raíz cuadrada de un número negativo.\n",
    "     \n",
    "\n",
    "## print(raiz_cuadrada(\"abc\")) # Error: el valor debe ser numérico."
   ]
  },
  {
   "cell_type": "code",
   "execution_count": null,
   "id": "db900c06",
   "metadata": {},
   "outputs": [],
   "source": [
    "def raiz_cuadrada(numero):\n",
    "    if numero < 0:\n",
    "        return \"No se puede calcular la raíz cuadrada de un número negativo.\"\n",
    "    if not isinstance(numero, (int, float)):\n",
    "        return \"Error: La entrada no es un número válido.\"\n",
    "    return numero ** 0.5\n",
    "\n",
    "raiz_cuadrada(16)"
   ]
  },
  {
   "cell_type": "markdown",
   "id": "d8769096",
   "metadata": {},
   "source": [
    "# Ejercicio 6\n",
    "# Escribe una función llamada es_par que reciba un número entero como parámetro y retorne True si el número es par y False si es impar.\n",
    "\n",
    "# NOTA: % es el operador módulo en Python. Lo que hace es dividir un número entre otro y devolver el residuo (lo que sobra de la división entera).\n",
    "\n",
    "# Si al dividir un número en 2, el residuo es cero, entonces el número es par, de lo contrario, es impar.\n",
    "\n",
    "\n",
    "# Para verificar que es par: numero % 2 == 0\n",
    "# def es_par(numero):\n",
    "     \n",
    "\n",
    "# print(es_par(10))   # Debería imprimir True\n",
    "     \n",
    "\n",
    "# print(es_par(7))    # Debería imprimir False\n",
    "     "
   ]
  },
  {
   "cell_type": "code",
   "execution_count": null,
   "id": "2eca31b4",
   "metadata": {},
   "outputs": [],
   "source": [
    "def es_par(numero):\n",
    "    if numero % 2 == 0:\n",
    "        return True\n",
    "    else:\n",
    "        return False\n",
    "es_par()\n",
    "    "
   ]
  },
  {
   "cell_type": "markdown",
   "id": "6f116356",
   "metadata": {},
   "source": [
    "## Ejercicio 7\n",
    "## Escribe un código que permita al usuario crear una contraseña y que verifique que esta cumpla todas las siguientes condiciones:\n",
    "\n",
    "## Tiene al menos 8 caracteres.\n",
    "\n",
    "## Contiene al menos una letra mayúscula.\n",
    "\n",
    "## Contiene al menos una letra minúscula.\n",
    "\n",
    "## Contiene al menos un número.\n",
    "\n",
    "## Si cumple todas las condiciones, muestra \"Contraseña válida\", de lo contrario, explica qué condición no se cumple."
   ]
  },
  {
   "cell_type": "code",
   "execution_count": null,
   "id": "c9627655",
   "metadata": {},
   "outputs": [],
   "source": [
    "def verificar_contraseña():\n",
    "    contraseña = input(\"Crea una contraseña: \")\n",
    "    errores = []\n",
    "\n",
    "    if len(contraseña) < 8:\n",
    "        errores.append(\"Debe tener al menos 8 caracteres.\")\n",
    "    if not any(c.isupper() for c in contraseña):\n",
    "        errores.append(\"Debe contener al menos una letra mayúscula.\")\n",
    "\n",
    "    if not any(c.islower() for c in contraseña):\n",
    "        errores.append(\"Debe contener al menos una letra minúscula.\")\n",
    "\n",
    "    if not any(c.isdigit() for c in contraseña):\n",
    "        errores.append(\"Debe contener al menos un número.\")\n",
    "        \n",
    "    if errores:\n",
    "        print(\"Contraseña no válida. Errores:\")\n",
    "        for e in errores:\n",
    "            print(\"-\", e)\n",
    "    else:\n",
    "        print(\"Contraseña válida ✅\")\n",
    "\n",
    "verificar_contraseña()\n"
   ]
  },
  {
   "cell_type": "markdown",
   "id": "84bd016c",
   "metadata": {},
   "source": [
    "## Ejercicio 8\n",
    "## Crea una función llamada \"extraer_dominio\" que extraiga el dominio de una página web a partir de una cadena que contenga un email de la siguiente forma:\n",
    "\n",
    "## usuario@dominio.com\n",
    "\n",
    "## Por ejemplo: si se le pasa \"lmcastroco@gmail.com\", la función retornará: gmail.com\n",
    "\n",
    "\n",
    "## def extraer_dominio(email):\n",
    "     \n",
    "\n",
    "## extraer_dominio('juanita@gmail.com')  # Debería retornar 'gmail.com'\n",
    "     \n",
    "\n",
    "## extraer_dominio('juanita.perez@hotmail.com') # Debería retornar 'hotmail.com'\n",
    "     "
   ]
  },
  {
   "cell_type": "code",
   "execution_count": null,
   "id": "ef8822fc",
   "metadata": {},
   "outputs": [],
   "source": [
    "def extraer_dominio(email):\n",
    "    try:\n",
    "        usuario, dominio = email.split('@')\n",
    "        return dominio\n",
    "    except ValueError:\n",
    "        return \"Error: El formato del email no es válido.\"\n",
    "\n",
    "extraer_dominio('linamariacastro@gmail.com')"
   ]
  },
  {
   "cell_type": "markdown",
   "id": "84276280",
   "metadata": {},
   "source": [
    "## Ejercicio 9\n",
    "## Escribe una función llamada contar_desempleo que reciba una cadena y retorne el número de veces que aparece la palabra \"desempleo\" en el texto. Ten en cuenta que la palabra puede estar en mayúsculas, minúsculas o una mezcla de ellas, pero por ahora no te preocupes por casos especiales como cuando la palabra tiene algún signo de puntuación inmediatamente despúes de ésta.\n",
    "\n",
    "\n",
    "## def contar_desempleo(cadena):\n",
    "     \n",
    "\n",
    "## contar_desempleo(\"El desempleo es un problema. El DESEMPLEO afecta a muchas personas.\")\n",
    "     \n",
    "\n",
    "## contar_desempleo(\"El dEseMPLeo aumentó en enero.\")\n",
    "     \n",
    "\n",
    "## contar_desempleo(\"El gobierno tiene como meta reducir el número de personas desocupadas un 10%.\")\n",
    "     "
   ]
  },
  {
   "cell_type": "code",
   "execution_count": null,
   "id": "0be94a01",
   "metadata": {},
   "outputs": [],
   "source": [
    "def contar_desempleo(cadena):\n",
    "    cadena_lower = cadena.lower()\n",
    "    return cadena_lower.count(\"desempleo\")\n",
    "\n",
    "contar_desempleo()"
   ]
  },
  {
   "cell_type": "markdown",
   "id": "8493d6ce",
   "metadata": {},
   "source": [
    "## Ejercicio 10\n",
    "## Vas conduciendo un carro muy rápido y eres detenido por un agente de tránsito.\n",
    "\n",
    "## Escribe una función \"multa\" que retorne uno de los 3 siguientes resultados:\n",
    "\n",
    "## Si la velocidad es 60 Km/h o menos, el resultado es \"Sin multa\".\n",
    "## Si la velocidad está entre 60 y 80 Km/h (inclusive), el resultado es \"Multa pequeña\".\n",
    "## Si la velocidad es mayor a 80 Km/h, el resultado es \"Multa grande\".\n",
    "## Además, considera que si esto ocurre el día de tu cumpleaños (codificado como parámetro booleano que recibe la función), tu velocidad podría ser 5 Km/ mayor en todos los casos.\n",
    "\n",
    "\n",
    "# def multa(velocidad, cumpleanios):\n",
    "     \n",
    "\n",
    "# multa(81, True)\n",
    "     \n",
    "\n",
    "# multa(81, False)\n",
    "     "
   ]
  },
  {
   "cell_type": "code",
   "execution_count": null,
   "id": "4fbda3e7",
   "metadata": {},
   "outputs": [],
   "source": [
    "def multar_velocidad(velocidad):\n",
    "    if velocidad <= 60:\n",
    "        return \"No hay multa.\"\n",
    "    elif 60 < velocidad <= 80:\n",
    "        return \"Multa leve.\"\n",
    "    elif 80 < velocidad :\n",
    "        return \"Multa grave.\"\n",
    "    else:\n",
    "        return \"Multa muy grave.\"\n",
    "\n",
    "multar_velocidad(75)  # Debería retornar \"Multa leve\""
   ]
  }
 ],
 "metadata": {
  "kernelspec": {
   "display_name": "Python 3",
   "language": "python",
   "name": "python3"
  },
  "language_info": {
   "codemirror_mode": {
    "name": "ipython",
    "version": 3
   },
   "file_extension": ".py",
   "mimetype": "text/x-python",
   "name": "python",
   "nbconvert_exporter": "python",
   "pygments_lexer": "ipython3",
   "version": "3.13.6"
  }
 },
 "nbformat": 4,
 "nbformat_minor": 5
}
